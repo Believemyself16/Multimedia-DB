{
 "cells": [
  {
   "cell_type": "code",
   "execution_count": 1,
   "metadata": {},
   "outputs": [],
   "source": [
    "import os\n",
    "import matplotlib.pyplot as plt\n",
    "import librosa, librosa.display\n",
    "import IPython.display as ipd\n",
    "import numpy as np\n",
    "\n",
    "os.chdir(r'C:\\Users\\Asus\\OneDrive - m2xk\\Desktop\\Multimedia-DB\\src\\File âm thanh')"
   ]
  },
  {
   "cell_type": "code",
   "execution_count": 2,
   "metadata": {},
   "outputs": [],
   "source": [
    "path = \"file1-001.wav\"\n",
    "file, sr = librosa.load(path, duration = 6)"
   ]
  },
  {
   "cell_type": "code",
   "execution_count": 3,
   "metadata": {},
   "outputs": [
    {
     "name": "stdout",
     "output_type": "stream",
     "text": [
      "132300\n"
     ]
    },
    {
     "data": {
      "text/plain": [
       "(array([0.00000000e+00, 1.66667926e-01, 3.33335853e-01, ...,\n",
       "        2.20496667e+04, 2.20498333e+04, 2.20500000e+04]),\n",
       " array([29.02737684, 28.64809926, 29.36050782, ..., 30.58559171,\n",
       "        29.36050782, 28.64809926]))"
      ]
     },
     "execution_count": 3,
     "metadata": {},
     "output_type": "execute_result"
    }
   ],
   "source": [
    "X = np.fft.fft(file)\n",
    "X_mag = np.absolute(X)\n",
    "\n",
    "f = np.linspace(0, sr, len(X_mag))\n",
    "f_bins = int(len(X_mag))\n",
    "\n",
    "print(X_mag.size)\n",
    "f[:f_bins], X_mag[:f_bins]"
   ]
  },
  {
   "cell_type": "code",
   "execution_count": 5,
   "metadata": {},
   "outputs": [
    {
     "name": "stdout",
     "output_type": "stream",
     "text": [
      "[1462, 27214, 44828, 87472, 105086, 130838]\n",
      "[700.2132941345928, 70.33520655786744, 7.5587411282446455, 7.558741128244656, 70.33520655786744, 700.2132941345928]\n"
     ]
    }
   ],
   "source": [
    "freq = []\n",
    "freq = [0 for i in range(6)]\n",
    "\n",
    "magnitude = []\n",
    "magnitude = [0 for i in range(6)]\n",
    "\n",
    "position = 0\n",
    "max = 0\n",
    "pos = 0\n",
    "\n",
    "for i in range(0, len(X_mag)):        \n",
    "    if(X_mag[i] > max):\n",
    "        max = X_mag[i]\n",
    "        pos = i\n",
    "    if(i> 0):\n",
    "        if( (i % int(len(X_mag)/6)) == 0 and i != len(X_mag)-1):            \n",
    "            freq[position] = pos\n",
    "            magnitude[position] = max\n",
    "            position += 1\n",
    "            max = 0 \n",
    "        if(i == len(X_mag)-1):            \n",
    "            freq[position] = pos\n",
    "            magnitude[position] = max\n",
    "\n",
    "print(freq)\n",
    "print(magnitude)"
   ]
  }
 ],
 "metadata": {
  "kernelspec": {
   "display_name": "Python 3",
   "language": "python",
   "name": "python3"
  },
  "language_info": {
   "codemirror_mode": {
    "name": "ipython",
    "version": 3
   },
   "file_extension": ".py",
   "mimetype": "text/x-python",
   "name": "python",
   "nbconvert_exporter": "python",
   "pygments_lexer": "ipython3",
   "version": "3.11.5"
  }
 },
 "nbformat": 4,
 "nbformat_minor": 2
}
