{
 "cells": [
  {
   "cell_type": "code",
   "execution_count": 3,
   "metadata": {},
   "outputs": [],
   "source": [
    "#file chạy thử để tính \n",
    "import sys\n",
    "import numpy as np\n",
    "from aubio import source, pitch"
   ]
  },
  {
   "cell_type": "code",
   "execution_count": 9,
   "metadata": {},
   "outputs": [
    {
     "ename": "RuntimeError",
     "evalue": "AUBIO ERROR: source_wavread: Failed opening /Multimedia-DB/src/File âm thanh/file1-001.flac (No such file or directory)",
     "output_type": "error",
     "traceback": [
      "\u001b[1;31m---------------------------------------------------------------------------\u001b[0m",
      "\u001b[1;31mRuntimeError\u001b[0m                              Traceback (most recent call last)",
      "Cell \u001b[1;32mIn[9], line 5\u001b[0m\n\u001b[0;32m      2\u001b[0m hop_s \u001b[38;5;241m=\u001b[39m \u001b[38;5;241m512\u001b[39m\n\u001b[0;32m      3\u001b[0m samplerate \u001b[38;5;241m=\u001b[39m \u001b[38;5;241m44100\u001b[39m\n\u001b[1;32m----> 5\u001b[0m s \u001b[38;5;241m=\u001b[39m \u001b[43msource\u001b[49m\u001b[43m(\u001b[49m\u001b[38;5;124;43m'\u001b[39;49m\u001b[38;5;124;43m/Multimedia-DB/src/File âm thanh/file1-001.flac\u001b[39;49m\u001b[38;5;124;43m'\u001b[39;49m\u001b[43m,\u001b[49m\u001b[43m \u001b[49m\u001b[43msamplerate\u001b[49m\u001b[43m,\u001b[49m\u001b[43m \u001b[49m\u001b[43mhop_s\u001b[49m\u001b[43m)\u001b[49m\n\u001b[0;32m      6\u001b[0m samplerate \u001b[38;5;241m=\u001b[39m s\u001b[38;5;241m.\u001b[39msamplerate \n\u001b[0;32m      7\u001b[0m tolerance \u001b[38;5;241m=\u001b[39m \u001b[38;5;241m0.8\u001b[39m\n",
      "\u001b[1;31mRuntimeError\u001b[0m: AUBIO ERROR: source_wavread: Failed opening /Multimedia-DB/src/File âm thanh/file1-001.flac (No such file or directory)"
     ]
    }
   ],
   "source": [
    "win_s = 4096 \n",
    "hop_s = 512\n",
    "samplerate = 44100\n",
    "\n",
    "s = source('/Multimedia-DB/src/File âm thanh/file1-001.flac', samplerate, hop_s)\n",
    "samplerate = s.samplerate \n",
    "tolerance = 0.8\n",
    "\n",
    "pitch_o = pitch(\"yin\", win_s, hop_s, samplerate)\n",
    "pitch_o.set_unit(\"midi\")\n",
    "pitch_o.set_tolerance(tolerance)\n",
    "\n",
    "pitches = []\n",
    "confidences = []\n",
    "\n",
    "total_frames = 0\n",
    "while True:\n",
    "    samples, read = s()\n",
    "    pitch = pitch_o(samples)[0]\n",
    "    pitches += [pitch]\n",
    "    confidence = pitch_o.get_confidence()\n",
    "    confidences += [confidence]\n",
    "    total_frames += read\n",
    "    if read < hop_s: break\n",
    "\n",
    "result = []\n",
    "\n",
    "print(len(pitches))\n",
    "step = int(len(pitches)/7)\n",
    "\n",
    "for i in range(0, 7, 1):\n",
    "    max = step*(i+1)\n",
    "    if(i == 6):\n",
    "        max = len(pitches) - 1\n",
    "    pitchLocal = []\n",
    "    for j in range(step*i, max, 1):\n",
    "        pitchLocal.append(pitches[j])\n",
    "    result.append(np.array(pitchLocal).mean())\n",
    "    \n",
    "print(\"Average frequency = \" + str(np.array(pitches).mean()) + \" hz\")\n",
    "print(len(result))\n",
    "print(result)"
   ]
  }
 ],
 "metadata": {
  "kernelspec": {
   "display_name": "Python 3",
   "language": "python",
   "name": "python3"
  },
  "language_info": {
   "codemirror_mode": {
    "name": "ipython",
    "version": 3
   },
   "file_extension": ".py",
   "mimetype": "text/x-python",
   "name": "python",
   "nbconvert_exporter": "python",
   "pygments_lexer": "ipython3",
   "version": "3.11.5"
  }
 },
 "nbformat": 4,
 "nbformat_minor": 2
}
