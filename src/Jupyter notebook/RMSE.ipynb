{
 "cells": [
  {
   "cell_type": "code",
   "execution_count": 17,
   "metadata": {},
   "outputs": [],
   "source": [
    "import matplotlib.pyplot as plt\n",
    "import numpy as np\n",
    "import librosa\n",
    "import librosa.display\n",
    "import IPython.display as ipd\n",
    "\n",
    "import os\n",
    "os.chdir(r'C:\\Users\\Asus\\OneDrive - m2xk\\Desktop\\Multimedia-DB\\src\\File âm thanh')"
   ]
  },
  {
   "cell_type": "code",
   "execution_count": 28,
   "metadata": {},
   "outputs": [],
   "source": [
    "path = \"file1-001.wav\"\n",
    "file1, sr = librosa.load(path, duration = 6)"
   ]
  },
  {
   "cell_type": "code",
   "execution_count": 29,
   "metadata": {},
   "outputs": [],
   "source": [
    "FRAME_SIZE = 1024 #kích thước frame\n",
    "HOP_LENGTH = 512 #khoảng cách giữa các frame\n",
    "\n",
    "rms = librosa.feature.rms(y = file1, frame_length=FRAME_SIZE, hop_length=HOP_LENGTH)[0]"
   ]
  },
  {
   "cell_type": "code",
   "execution_count": 30,
   "metadata": {},
   "outputs": [
    {
     "name": "stdout",
     "output_type": "stream",
     "text": [
      "[50.73538079078114, 35.26223497021766, 77.98878874607561, 28.90420657183443, 71.95361185198028, 46.80004188059164]\n"
     ]
    }
   ],
   "source": [
    "\n",
    "arr = np.array_split(rms, 6) #chia mảng rms thành 6 phần\n",
    "\n",
    "result = [0 for i in range(6)] \n",
    "window = 0\n",
    "\n",
    "#phần trăm khác nhau\n",
    "for i in range(len(arr)):\n",
    "    sum = 0\n",
    "    count = 0\n",
    "    for j in range(len(arr[i])-1):  \n",
    "        if(arr[i][j] != 0):\n",
    "            #trung bình cộng hiệu 2 giá trị cạnh nhau / giá trị tiếp theo để tính xem năng lượng trung bình ở giá trị tiếp theo lệch bao nhiêu % so với giá trị hiện tại \n",
    "            sum += ((abs(arr[i][j] - arr[i][j+1]))/arr[i][j])*100\n",
    "        else:\n",
    "            sum += 0\n",
    "        count += 1\n",
    "    avg = sum/count\n",
    "    result[window] = avg\n",
    "    window += 1\n",
    "    \n",
    "print(result)"
   ]
  }
 ],
 "metadata": {
  "kernelspec": {
   "display_name": "Python 3",
   "language": "python",
   "name": "python3"
  },
  "language_info": {
   "codemirror_mode": {
    "name": "ipython",
    "version": 3
   },
   "file_extension": ".py",
   "mimetype": "text/x-python",
   "name": "python",
   "nbconvert_exporter": "python",
   "pygments_lexer": "ipython3",
   "version": "3.11.5"
  }
 },
 "nbformat": 4,
 "nbformat_minor": 2
}
