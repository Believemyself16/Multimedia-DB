{
 "cells": [
  {
   "cell_type": "code",
   "execution_count": null,
   "metadata": {},
   "outputs": [],
   "source": [
    "import librosa\n",
    "import librosa.display\n",
    "import matplotlib.pyplot as plt\n",
    "\n",
    "# Đường dẫn đến file âm thanh\n",
    "path = \"your_audio_file.wav\"\n",
    "\n",
    "# Tải âm thanh và tính toán phổ\n",
    "y, sr = librosa.load(path)\n",
    "spectrogram = librosa.stft(y)\n",
    "\n",
    "# Tính toán trọng tâm phổ\n",
    "spectral_centroids = librosa.feature.spectral_centroid(S=np.abs(spectrogram))\n",
    "\n",
    "# Hiển thị phổ và trọng tâm phổ\n",
    "plt.figure(figsize=(10, 6))\n",
    "\n",
    "# Hiển thị phổ\n",
    "plt.subplot(2, 1, 1)\n",
    "librosa.display.specshow(librosa.amplitude_to_db(spectrogram, ref=np.max), sr=sr, x_axis='time', y_axis='log')\n",
    "plt.colorbar(format='%+2.0f dB')\n",
    "plt.title('Spectrogram')\n",
    "\n",
    "# Hiển thị trọng tâm phổ\n",
    "plt.subplot(2, 1, 2)\n",
    "plt.semilogy(spectral_centroids.T, label='Spectral centroid')\n",
    "plt.ylabel('Hz')\n",
    "plt.xticks([])\n",
    "plt.xlim([0, spectral_centroids.shape[-1]])\n",
    "plt.legend(loc='upper right')\n",
    "plt.title('Spectral Centroid')\n",
    "plt.tight_layout()\n",
    "plt.show()\n"
   ]
  }
 ],
 "metadata": {
  "language_info": {
   "name": "python"
  }
 },
 "nbformat": 4,
 "nbformat_minor": 2
}
