{
 "cells": [
  {
   "cell_type": "code",
   "execution_count": null,
   "metadata": {},
   "outputs": [],
   "source": [
    "import librosa\n",
    "import matplotlib.pyplot as plt\n",
    "\n",
    "# Đường dẫn đến file âm thanh\n",
    "audio_path = \"your_audio_file.wav\"\n",
    "\n",
    "# Load file âm thanh\n",
    "y, sr = librosa.load(audio_path)\n",
    "\n",
    "# Trích xuất đặc trưng Zero-Crossing Rate\n",
    "zero_crossings = librosa.zero_crossings(y, pad=False)\n",
    "\n",
    "# Hiển thị biểu đồ Zero-Crossing Rate\n",
    "plt.figure(figsize=(10, 4))\n",
    "plt.plot(zero_crossings[:1000], color='b')\n",
    "plt.title('Zero-Crossing Rate')\n",
    "plt.xlabel('Sample Index')\n",
    "plt.ylabel('Zero-Crossings')\n",
    "plt.show()\n"
   ]
  }
 ],
 "metadata": {
  "language_info": {
   "name": "python"
  }
 },
 "nbformat": 4,
 "nbformat_minor": 2
}
