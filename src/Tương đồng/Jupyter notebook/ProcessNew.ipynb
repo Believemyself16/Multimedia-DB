{
 "cells": [
  {
   "cell_type": "code",
   "execution_count": null,
   "metadata": {},
   "outputs": [],
   "source": [
    "# Cắt các file âm thanh giọng đàn ông chưa có trong hệ thống"
   ]
  },
  {
   "cell_type": "code",
   "execution_count": 1,
   "metadata": {},
   "outputs": [],
   "source": [
    "import os\n",
    "import librosa\n",
    "import numpy as np\n",
    "import matplotlib.pyplot as plt\n",
    "import soundfile as sf\n",
    "\n",
    "# Đường dẫn tới thư mục chứa các file âm thanh\n",
    "input_folder = r\"C:\\Users\\Asus\\OneDrive - m2xk\\Desktop\\Multimedia-DB\\src\\Temp\"\n",
    "output_folder = r\"C:\\Users\\Asus\\OneDrive - m2xk\\Desktop\\Multimedia-DB\\src\\TestFile2\"\n",
    "\n",
    "# Hàm cắt và tính toán phổ tần số\n",
    "def cut_file(file_path):\n",
    "    # Đọc file âm thanh\n",
    "    y, sr = librosa.load(file_path, sr=None)\n",
    "    \n",
    "    # Độ dài cắt (8 giây trong ví dụ này)\n",
    "    target_length_samples = sr * 8\n",
    "    \n",
    "    # Kiểm tra độ dài của file âm thanh\n",
    "    if len(y) > target_length_samples:\n",
    "        y_cut = y[:target_length_samples]\n",
    "    else:\n",
    "        y_cut = y\n",
    "    \n",
    "    # Lưu file âm thanh đã cắt\n",
    "    sf.write(output_path, y_cut, sr)\n",
    "\n",
    "# Tạo thư mục đầu ra nếu chưa tồn tại\n",
    "if not os.path.exists(output_folder):\n",
    "    os.makedirs(output_folder)\n",
    "\n",
    "# Duyệt qua các file âm thanh trong thư mục đầu vào\n",
    "for filename in os.listdir(input_folder):\n",
    "    if filename.endswith(\".flac\"):\n",
    "        file_path = os.path.join(input_folder, filename)\n",
    "        output_path = os.path.join(output_folder, filename)\n",
    "        \n",
    "        # Kiểm tra độ dài của file âm thanh\n",
    "        y, sr = librosa.load(file_path, sr=None)\n",
    "        target_length_samples = sr * 8\n",
    "        if len(y) > target_length_samples:\n",
    "            # Cắt và lưu file âm thanh\n",
    "            y_cut = y[:target_length_samples]\n",
    "            sf.write(output_path, y_cut, sr)\n",
    "        \n",
    "        # Tính toán và vẽ biểu đồ phổ tần số\n",
    "        cut_file(file_path)"
   ]
  }
 ],
 "metadata": {
  "kernelspec": {
   "display_name": "Python 3",
   "language": "python",
   "name": "python3"
  },
  "language_info": {
   "codemirror_mode": {
    "name": "ipython",
    "version": 3
   },
   "file_extension": ".py",
   "mimetype": "text/x-python",
   "name": "python",
   "nbconvert_exporter": "python",
   "pygments_lexer": "ipython3",
   "version": "3.11.5"
  }
 },
 "nbformat": 4,
 "nbformat_minor": 2
}
