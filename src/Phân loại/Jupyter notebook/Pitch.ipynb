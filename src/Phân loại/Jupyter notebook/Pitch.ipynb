{
 "cells": [
  {
   "cell_type": "code",
   "execution_count": 8,
   "metadata": {},
   "outputs": [
    {
     "name": "stdout",
     "output_type": "stream",
     "text": [
      "Files in 'C:\\\\Users\\\\Asus\\\\OneDrive - m2xk\\\\Desktop\\\\Multimedia-DB\\\\src\\\\File âm thanh': ['file1-001.flac', 'file1-001.wav', 'file1-002.flac', 'file1-002.wav', 'file1-003.flac', 'file1-003.wav', 'file1-004.flac', 'file1-005.flac', 'file1-006.flac', 'file1-007.flac', 'file1-008.flac', 'file1-009.flac', 'file1-010.flac', 'file10-001.flac', 'file10-002.flac', 'file10-003.flac', 'file10-004.flac', 'file10-005.flac', 'file10-006.flac', 'file10-007.flac', 'file10-008.flac', 'file10-009.flac', 'file10-010.flac', 'file10-011.flac', 'file10-012.flac', 'file10-013.flac', 'file10-014.flac', 'file10-015.flac', 'file10-016.flac', 'file10-017.flac', 'file11-001.flac', 'file11-002.flac', 'file11-003.flac', 'file11-004.flac', 'file11-005.flac', 'file11-006.flac', 'file11-007.flac', 'file11-008.flac', 'file11-009.flac', 'file11-010.flac', 'file11-011.flac', 'file11-012.flac', 'file11-013.flac', 'file11-014.flac', 'file11-015.flac', 'file11-016.flac', 'file11-017.flac', 'file11-018.flac', 'file12-001.flac', 'file12-002.flac', 'file12-003.flac', 'file12-004.flac', 'file12-005.flac', 'file12-006.flac', 'file12-007.flac', 'file12-008.flac', 'file12-009.flac', 'file12-010.flac', 'file12-011.flac', 'file12-012.flac', 'file12-013.flac', 'file12-014.flac', 'file13-001.flac', 'file13-002.flac', 'file13-003.flac', 'file13-004.flac', 'file13-005.flac', 'file13-006.flac', 'file13-007.flac', 'file13-008.flac', 'file13-009.flac', 'file13-010.flac', 'file2-001.flac', 'file2-002.flac', 'file2-003.flac', 'file2-004.flac', 'file2-005.flac', 'file2-006.flac', 'file2-007.flac', 'file2-008.flac', 'file2-009.flac', 'file2-010.flac', 'file2-011.flac', 'file2-012.flac', 'file2-013.flac', 'file2-014.flac', 'file2-015.flac', 'file2-016.flac', 'file2-017.flac', 'file2-018.flac', 'file2-019.flac', 'file2-020.flac', 'file3-001.flac', 'file3-002.flac', 'file3-003.flac', 'file3-004.flac', 'file3-005.flac', 'file3-006.flac', 'file3-007.flac', 'file3-008.flac', 'file3-009.flac', 'file3-010.flac', 'file4-001.flac', 'file4-002.flac', 'file4-003.flac', 'file4-004.flac', 'file4-005.flac', 'file4-006.flac', 'file4-007.flac', 'file4-008.flac', 'file4-009.flac', 'file4-010.flac', 'file4-011.flac', 'file4-012.flac', 'file4-013.flac', 'file4-014.flac', 'file4-015.flac', 'file4-016.flac', 'file4-017.flac', 'file5-001.flac', 'file5-002.flac', 'file5-003.flac', 'file5-004.flac', 'file5-005.flac', 'file5-006.flac', 'file5-007.flac', 'file5-008.flac', 'file5-009.flac', 'file5-010.flac', 'file5-011.flac', 'file5-012.flac', 'file5-013.flac', 'file5-014.flac', 'file5-015.flac', 'file5-016.flac', 'file5-017.flac', 'file5-018.flac', 'file5-019.flac', 'file5-020.flac', 'file5-021.flac', 'file5-022.flac', 'file6-001.flac', 'file6-002.flac', 'file6-003.flac', 'file6-004.flac', 'file6-005.flac', 'file6-006.flac', 'file6-007.flac', 'file6-008.flac', 'file6-009.flac', 'file6-010.flac', 'file6-011.flac', 'file6-012.flac', 'file6-013.flac', 'file6-014.flac', 'file6-015.flac', 'file6-016.flac', 'file6-017.flac', 'file6-018.flac', 'file6-019.flac', 'file7-001.flac', 'file7-002.flac', 'file7-003.flac', 'file7-004.flac', 'file7-005.flac', 'file7-006.flac', 'file7-007.flac', 'file7-008.flac', 'file7-009.flac', 'file7-010.flac', 'file7-011.flac', 'file7-012.flac', 'file7-013.flac', 'file7-014.flac', 'file7-015.flac', 'file7-016.flac', 'file7-017.flac', 'file7-018.flac', 'file7-019.flac', 'file8-001.flac', 'file8-002.flac', 'file8-003.flac', 'file8-004.flac', 'file8-005.flac', 'file8-006.flac', 'file8-007.flac', 'file8-008.flac', 'file8-009.flac', 'file9-001.flac', 'file9-002.flac', 'file9-003.flac', 'file9-004.flac', 'file9-005.flac', 'file9-006.flac', 'file9-007.flac', 'file9-008.flac', 'file9-009.flac', 'file9-010.flac', 'file9-011.flac', 'file9-012.flac', 'file9-013.flac', 'file9-014.flac', 'file9-015.flac']\n"
     ]
    }
   ],
   "source": [
    "#file chạy thử để tính \n",
    "import sys\n",
    "import numpy as np\n",
    "from aubio import source, pitch\n",
    "\n",
    "#đổi thư mục đang chạy để truy cập vào các file âm thanh\n",
    "import os\n",
    "cwd = os.getcwd()  #current working directory (cwd)\n",
    "files = os.listdir(cwd)  #all the files in that directory\n",
    "os.chdir(r'C:\\Users\\Asus\\OneDrive - m2xk\\Desktop\\Multimedia-DB\\src\\File âm thanh')\n",
    "print(\"Files in %r: %s\" % (cwd, files))"
   ]
  },
  {
   "cell_type": "code",
   "execution_count": 10,
   "metadata": {},
   "outputs": [
    {
     "name": "stdout",
     "output_type": "stream",
     "text": [
      "188\n",
      "Average frequency = 58.58555 hz\n",
      "7\n",
      "[44.356197, 58.71981, 54.646236, 53.49069, 68.01378, 62.304947, 67.020645]\n"
     ]
    }
   ],
   "source": [
    "win_s = 4096 \n",
    "hop_s = 512\n",
    "samplerate = 16000\n",
    "\n",
    "s = source('file1-001.wav', samplerate, hop_s)\n",
    "samplerate = s.samplerate \n",
    "tolerance = 0.8\n",
    "\n",
    "pitch_o = pitch(\"yin\", win_s, hop_s, samplerate)\n",
    "pitch_o.set_unit(\"midi\")\n",
    "pitch_o.set_tolerance(tolerance)\n",
    "\n",
    "pitches = []\n",
    "confidences = []\n",
    "\n",
    "total_frames = 0\n",
    "while True:\n",
    "    samples, read = s()\n",
    "    pitch = pitch_o(samples)[0]\n",
    "    pitches += [pitch]\n",
    "    confidence = pitch_o.get_confidence()\n",
    "    confidences += [confidence]\n",
    "    total_frames += read\n",
    "    if read < hop_s: break\n",
    "\n",
    "result = []\n",
    "\n",
    "print(len(pitches))\n",
    "step = int(len(pitches)/7)\n",
    "\n",
    "for i in range(0, 7, 1):\n",
    "    max = step*(i+1)\n",
    "    if(i == 6):\n",
    "        max = len(pitches) - 1\n",
    "    pitchLocal = []\n",
    "    for j in range(step*i, max, 1):\n",
    "        pitchLocal.append(pitches[j])\n",
    "    result.append(np.array(pitchLocal).mean())\n",
    "    \n",
    "print(\"Average frequency = \" + str(np.array(pitches).mean()) + \" hz\")\n",
    "print(len(result))\n",
    "print(result)"
   ]
  }
 ],
 "metadata": {
  "kernelspec": {
   "display_name": "Python 3",
   "language": "python",
   "name": "python3"
  },
  "language_info": {
   "codemirror_mode": {
    "name": "ipython",
    "version": 3
   },
   "file_extension": ".py",
   "mimetype": "text/x-python",
   "name": "python",
   "nbconvert_exporter": "python",
   "pygments_lexer": "ipython3",
   "version": "3.11.5"
  }
 },
 "nbformat": 4,
 "nbformat_minor": 2
}
