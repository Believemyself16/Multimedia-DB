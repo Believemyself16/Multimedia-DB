{
 "cells": [
  {
   "cell_type": "code",
   "execution_count": null,
   "metadata": {},
   "outputs": [],
   "source": [
    "# MFCC là hệ số thể hiện phổ năng lương của âm thanh (phổ âm thanh là sự rung động của âm thanh ở mỗi tần số riêng lẻ)\n",
    "# Thang đo Mel liên quan đến tần số của âm mà con người cảm nhận được, so với tần số thực tế của âm thanh\n",
    "# MFCC biểu diễn tần số và biên độ của tín hiệu âm thanh trong miền tần số Mel"
   ]
  },
  {
   "cell_type": "code",
   "execution_count": 1,
   "metadata": {},
   "outputs": [],
   "source": [
    "import os\n",
    "import librosa\n",
    "import numpy as np\n",
    "import pandas as pd"
   ]
  },
  {
   "cell_type": "code",
   "execution_count": 2,
   "metadata": {},
   "outputs": [
    {
     "name": "stdout",
     "output_type": "stream",
     "text": [
      "Đặc trưng âm thanh đã được lưu vào C:\\Users\\Asus\\OneDrive - m2xk\\Desktop\\Multimedia-DB\\src\\TrimmedAudioFile\\audio_features.csv\n"
     ]
    }
   ],
   "source": [
    "# Đường dẫn tới thư mục chứa tệp âm thanh đã cắt\n",
    "audio_folder = r\"C:\\Users\\Asus\\OneDrive - m2xk\\Desktop\\Multimedia-DB\\src\\TrimmedAudioFile\"\n",
    "output_csv = r\"C:\\Users\\Asus\\OneDrive - m2xk\\Desktop\\Multimedia-DB\\src\\TrimmedAudioFile\\audio_features.csv\"\n",
    "\n",
    "# Hàm trích xuất đặc trưng MFCC từ tệp âm thanh\n",
    "def extract_features(file_path, n_mfcc=13):\n",
    "    y, sr = librosa.load(file_path, sr=None)\n",
    "    mfcc = librosa.feature.mfcc(y=y, sr=sr, n_mfcc=n_mfcc)\n",
    "    mfcc_mean = np.mean(mfcc, axis=1)\n",
    "    return mfcc_mean\n",
    "\n",
    "# Tạo danh sách để lưu trữ các đặc trưng\n",
    "features_list = []\n",
    "\n",
    "# Lặp qua từng tệp trong thư mục và trích xuất đặc trưng\n",
    "for filename in os.listdir(audio_folder):\n",
    "    if filename.endswith(\".wav\"):\n",
    "        file_path = os.path.join(audio_folder, filename)\n",
    "        mfcc_features = extract_features(file_path, n_mfcc=13)\n",
    "        features_list.append([filename] + mfcc_features.tolist())\n",
    "\n",
    "# Chuyển danh sách thành DataFrame\n",
    "columns = [\"filename\"] + [f\"mfcc_{i}\" for i in range(13)]\n",
    "features_df = pd.DataFrame(features_list, columns=columns)\n",
    "\n",
    "# Lưu trữ các đặc trưng vào tệp CSV\n",
    "features_df.to_csv(output_csv, index=False)\n",
    "print(f\"Đặc trưng âm thanh đã được lưu vào {output_csv}\")"
   ]
  }
 ],
 "metadata": {
  "kernelspec": {
   "display_name": "Python 3",
   "language": "python",
   "name": "python3"
  },
  "language_info": {
   "codemirror_mode": {
    "name": "ipython",
    "version": 3
   },
   "file_extension": ".py",
   "mimetype": "text/x-python",
   "name": "python",
   "nbconvert_exporter": "python",
   "pygments_lexer": "ipython3",
   "version": "3.11.5"
  }
 },
 "nbformat": 4,
 "nbformat_minor": 2
}
