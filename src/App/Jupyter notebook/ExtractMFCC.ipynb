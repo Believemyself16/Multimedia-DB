{
 "cells": [
  {
   "cell_type": "code",
   "execution_count": null,
   "metadata": {},
   "outputs": [],
   "source": [
    "# MFCC là hệ số thể hiện phổ năng lương của âm thanh (phổ âm thanh là sự rung động của âm thanh ở mỗi tần số riêng lẻ)\n",
    "# Thang đo Mel liên quan đến tần số của âm mà con người cảm nhận được, so với tần số thực tế của âm thanh\n",
    "# MFCC biểu diễn tần số và biên độ của tín hiệu âm thanh trong miền tần số Mel"
   ]
  },
  {
   "cell_type": "code",
   "execution_count": 1,
   "metadata": {},
   "outputs": [],
   "source": [
    "import os\n",
    "import numpy as np\n",
    "import pandas as pd\n",
    "from scipy.fftpack import dct\n",
    "import scipy.io.wavfile as wav"
   ]
  },
  {
   "cell_type": "code",
   "execution_count": 2,
   "metadata": {},
   "outputs": [
    {
     "name": "stdout",
     "output_type": "stream",
     "text": [
      "Đặc trưng âm thanh đã được lưu vào C:\\Users\\Asus\\OneDrive - m2xk\\Desktop\\Multimedia-DB\\src\\TrimmedAudioFile\\audio_features.csv\n"
     ]
    }
   ],
   "source": [
    "# Đường dẫn tới thư mục chứa tệp âm thanh đã cắt\n",
    "audio_folder = r\"C:\\Users\\Asus\\OneDrive - m2xk\\Desktop\\Multimedia-DB\\src\\TrimmedAudioFile\"\n",
    "output_csv = r\"C:\\Users\\Asus\\OneDrive - m2xk\\Desktop\\Multimedia-DB\\src\\TrimmedAudioFile\\audio_features.csv\"\n",
    "\n",
    "# Hàm tiền xử lý tín hiệu\n",
    "def pre_emphasis(signal, pre_emphasis_coefficient=0.97):\n",
    "    return np.append(signal[0], signal[1:] - pre_emphasis_coefficient * signal[:-1])\n",
    "\n",
    "# Hàm chia tín hiệu thành các khung\n",
    "def framing(signal, sample_rate, frame_size=0.025, frame_stride=0.01):\n",
    "    frame_length, frame_step = frame_size * sample_rate, frame_stride * sample_rate\n",
    "    signal_length = len(signal)\n",
    "    frame_length = int(round(frame_length))\n",
    "    frame_step = int(round(frame_step))\n",
    "    num_frames = int(np.ceil(float(np.abs(signal_length - frame_length)) / frame_step)) + 1\n",
    "    pad_signal_length = num_frames * frame_step + frame_length\n",
    "    z = np.zeros((pad_signal_length - signal_length))\n",
    "    pad_signal = np.append(signal, z)\n",
    "    indices = np.tile(np.arange(0, frame_length), (num_frames, 1)) + np.tile(np.arange(0, num_frames * frame_step, frame_step), (frame_length, 1)).T\n",
    "    frames = pad_signal[indices.astype(np.int32, copy=False)]\n",
    "    return frames\n",
    "\n",
    "# Hàm áp dụng cửa sổ Hamming\n",
    "def hamming_window(frames):\n",
    "    return frames * np.hamming(frames.shape[1])\n",
    "\n",
    "# Hàm tính phổ FFT\n",
    "def fft_spectrum(frames, NFFT=512):\n",
    "    mag_frames = np.absolute(np.fft.rfft(frames, NFFT))\n",
    "    pow_frames = ((1.0 / NFFT) * (mag_frames ** 2))\n",
    "    return pow_frames\n",
    "\n",
    "# Hàm tính các bộ lọc Mel\n",
    "def mel_filterbanks(pow_frames, sample_rate, nfilt=40, NFFT=512):\n",
    "    low_freq_mel = 0\n",
    "    high_freq_mel = (2595 * np.log10(1 + (sample_rate / 2) / 700))\n",
    "    mel_points = np.linspace(low_freq_mel, high_freq_mel, nfilt + 2)\n",
    "    hz_points = (700 * (10**(mel_points / 2595) - 1))\n",
    "    bin = np.floor((NFFT + 1) * hz_points / sample_rate)\n",
    "    fbank = np.zeros((nfilt, int(np.floor(NFFT / 2 + 1))))\n",
    "    for m in range(1, nfilt + 1):\n",
    "        f_m_minus = int(bin[m - 1])\n",
    "        f_m = int(bin[m])\n",
    "        f_m_plus = int(bin[m + 1])\n",
    "        for k in range(f_m_minus, f_m):\n",
    "            fbank[m - 1, k] = (k - bin[m - 1]) / (bin[m] - bin[m - 1])\n",
    "        for k in range(f_m, f_m_plus):\n",
    "            fbank[m - 1, k] = (bin[m + 1] - k) / (bin[m + 1] - bin[m])\n",
    "    filter_banks = np.dot(pow_frames, fbank.T)\n",
    "    filter_banks = np.where(filter_banks == 0, np.finfo(float).eps, filter_banks)\n",
    "    filter_banks = 20 * np.log10(filter_banks)\n",
    "    return filter_banks\n",
    "\n",
    "# Hàm tính toán MFCC\n",
    "def mfcc(signal, sample_rate, pre_emphasis_coefficient=0.97, frame_size=0.025, frame_stride=0.01, NFFT=512, nfilt=40, num_ceps=13, cep_lifter=22):\n",
    "    emphasized_signal = pre_emphasis(signal, pre_emphasis_coefficient)\n",
    "    frames = framing(emphasized_signal, sample_rate, frame_size, frame_stride)\n",
    "    frames = hamming_window(frames)\n",
    "    pow_frames = fft_spectrum(frames, NFFT)\n",
    "    filter_banks = mel_filterbanks(pow_frames, sample_rate, nfilt, NFFT)\n",
    "    mfcc = dct(filter_banks, type=2, axis=1, norm='ortho')[:, 1:(num_ceps + 1)]\n",
    "    (nframes, ncoeff) = mfcc.shape\n",
    "    n = np.arange(ncoeff)\n",
    "    lift = 1 + (cep_lifter / 2) * np.sin(np.pi * n / cep_lifter)\n",
    "    mfcc *= lift\n",
    "    return mfcc\n",
    "\n",
    "# Hàm trích xuất đặc trưng MFCC từ tệp âm thanh\n",
    "def extract_features(file_path, n_mfcc=13):\n",
    "    sample_rate, signal = wav.read(file_path)\n",
    "    mfcc_features = mfcc(signal, sample_rate, num_ceps=n_mfcc)\n",
    "    mfcc_mean = np.mean(mfcc_features, axis=0)\n",
    "    return mfcc_mean\n",
    "\n",
    "# Tạo danh sách để lưu trữ các đặc trưng\n",
    "features_list = []\n",
    "\n",
    "# Lặp qua từng tệp trong thư mục và trích xuất đặc trưng\n",
    "for filename in os.listdir(audio_folder):\n",
    "    if filename.endswith(\".wav\"):\n",
    "        file_path = os.path.join(audio_folder, filename)\n",
    "        mfcc_features = extract_features(file_path, n_mfcc=13)\n",
    "        features_list.append([filename] + mfcc_features.tolist())\n",
    "\n",
    "# Chuyển danh sách thành DataFrame\n",
    "columns = [\"filename\"] + [f\"mfcc_{i}\" for i in range(13)]\n",
    "features_df = pd.DataFrame(features_list, columns=columns)\n",
    "\n",
    "# Lưu trữ các đặc trưng vào tệp CSV\n",
    "features_df.to_csv(output_csv, index=False)\n",
    "print(f\"Đặc trưng âm thanh đã được lưu vào {output_csv}\")"
   ]
  }
 ],
 "metadata": {
  "kernelspec": {
   "display_name": "Python 3",
   "language": "python",
   "name": "python3"
  },
  "language_info": {
   "codemirror_mode": {
    "name": "ipython",
    "version": 3
   },
   "file_extension": ".py",
   "mimetype": "text/x-python",
   "name": "python",
   "nbconvert_exporter": "python",
   "pygments_lexer": "ipython3",
   "version": "3.11.5"
  }
 },
 "nbformat": 4,
 "nbformat_minor": 2
}
